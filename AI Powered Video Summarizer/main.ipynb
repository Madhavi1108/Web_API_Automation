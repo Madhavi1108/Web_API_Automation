{
  "nbformat": 4,
  "nbformat_minor": 0,
  "metadata": {
    "colab": {
      "provenance": []
    },
    "kernelspec": {
      "name": "python3",
      "display_name": "Python 3"
    },
    "language_info": {
      "name": "python"
    }
  },
  "cells": [
    {
      "cell_type": "code",
      "source": [
        "import re\n",
        "from youtube_transcript_api import YouTubeTranscriptApi\n",
        "from youtube_transcript_api._errors import TranscriptsDisabled, NoTranscriptFound, VideoUnavailable\n",
        "import google.generativeai as genai"
      ],
      "metadata": {
        "id": "35RnlyY_4nso"
      },
      "execution_count": 10,
      "outputs": []
    },
    {
      "cell_type": "code",
      "source": [
        "api_key = \"\" # API key\n",
        "\n",
        "url = \"https://www.youtube.com/watch?v=_8DPM_kqKbI&list=PLADbhCPI8Be7aHFv40RVGQv9NabkTBigw\"\n",
        "pattern = r\"(?:v=|\\/)([0-9A-Za-z_-]{11})\"\n",
        "match = re.search(pattern, url)"
      ],
      "metadata": {
        "id": "rIZkmtrV4sXk"
      },
      "execution_count": 18,
      "outputs": []
    },
    {
      "cell_type": "code",
      "source": [
        "if match:\n",
        "    video_id = match.group(1)\n",
        "    print(\"Video ID:\", video_id)\n",
        "\n",
        "    try:\n",
        "        yta = YouTubeTranscriptApi()\n",
        "        transcript = yta.fetch(video_id)\n",
        "\n",
        "        # Join all text\n",
        "        full_text = \" \".join([line.text for line in transcript])\n",
        "\n",
        "        # Remove brackets like [Silly Dog: Mm.] or (Laughs)\n",
        "        cleaned_text = re.sub(r\"[\\[\\(].*?[\\]\\)]\", \"\", full_text)\n",
        "\n",
        "        # Remove musical notes\n",
        "        cleaned_text = re.sub(r\"[♪♫]\", \"\", cleaned_text)\n",
        "\n",
        "        # Remove multiple spaces\n",
        "        cleaned_text = re.sub(r\"\\s{2,}\", \" \", cleaned_text)\n",
        "\n",
        "        print(\"\\n--- Cleaned Transcript ---\\n\")\n",
        "        print(cleaned_text)  # Preview\n",
        "\n",
        "        # Summarize using Gemini API\n",
        "        genai.configure(api_key=api_key)\n",
        "        model = genai.GenerativeModel(\"models/gemini-2.5-pro\")\n",
        "\n",
        "        response = model.generate_content(f\"Summarize this transcript: {cleaned_text}\")\n",
        "\n",
        "        print(\"\\n--- Summary ---\\n\")\n",
        "        print(response.text)\n",
        "\n",
        "    except TranscriptsDisabled:\n",
        "        print(\"❌ Transcripts are disabled for this video.\")\n",
        "    except NoTranscriptFound:\n",
        "        print(\"❌ No transcript found.\")\n",
        "    except VideoUnavailable:\n",
        "        print(\"❌ Video is unavailable.\")\n",
        "    except Exception as e:\n",
        "        print(\"❌ Unexpected error:\", str(e))\n",
        "\n",
        "else:\n",
        "    print(\"❌ No match found for Video ID.\")\n",
        "\n"
      ],
      "metadata": {
        "colab": {
          "base_uri": "https://localhost:8080/",
          "height": 689
        },
        "id": "HsLowIOY4p6V",
        "outputId": "bfe8d54b-6ed8-4bf7-e63f-e74e2b4d4ad6"
      },
      "execution_count": 23,
      "outputs": [
        {
          "output_type": "stream",
          "name": "stdout",
          "text": [
            "Video ID: _8DPM_kqKbI\n",
            "\n",
            "--- Cleaned Transcript ---\n",
            "\n",
            "A beautiful place full of smiles Where imaginations about you grow wildly The winter sun is like your white teeth Expecting your visit all day long Like the light breeze\n",
            "and the fragrance of flowers in May and June Hesitate to embrace you and my words stumble Time passes hurriedly,\n",
            "leaving a photo of us and sunflowers Too flimsy to be scrutinized Welcome to my world and explore its beauty I can offer you my clumsy gentleness Welcome to my lonely island, too Only fish and migratory birds have been here Maybe I'm too clumsy and evasive Tired of troubles,\n",
            "all I want is to hide you secretly I wipe off the dust because you're still there I hide my wish under a band of stars\n",
            "like a clumsy kid Busted, thief. A fairy tale about the fallen Milky Way Every dark night freezes into an eternal day\n",
            "amidst the fireworks In the Pythagorean theorem, \"a\" squared plus \"b\" squared equals the square of the longest side, \"c.\" Sang Zhi. Sang Zhi. What are you staring at? Just now, a mother bird brought back some food to feed baby birds. But two baby birds were competing for food. Then, the mother bird flew away and took the food away from them. They were then stunned for one or two minutes. They didn't move at all. Quiet, everyone. Sang Zhi. Pay attention and look at the blackboard. Sit down. Let's read the third question aloud. A triangle ABC with side lengths of 5 cm, 13 cm, and 12 cm. Obviously, we can see that the longest length is C. So, how do we get this? The condition is given that side length is A. Right-angled triangle. Multiply the base by the height\n",
            "and then divide by two. See? You've picked up this, right? Next question. Angle 1 equals Angle 2. Angle 3 is 108 degrees. Sang Zhi! Sang Zhi. Where was I just now? Angle 4 equals 72 degrees. I wasn't there yet. Where were you just now? Silence. Silence! Angle 1 equals Angle 2, so Line AB is parallel to Line CD. As they're parallel lines, same-side interior angles\n",
            "will be supplementary. So, Angle 3 is... Stop. It's not about this one question. It's your attitude. Sang Zhi. Tomorrow, ask your parents to come over. Sit. Let's continue. Angle 1 equals Angle 2. This means that these two straight lines are parallel to each other. The interior angles are supplementary. Therefore, calculate Angle 4. Let's go home. I'm sorry about earlier today. I pointed to the wrong line and got you caught by the teacher again. Your mother has already come here twice in just half a month. I'm clueless how I have irritated him. But when you directed his question back to him, I felt like punching you, let alone Chen. Don't you think his voice sounds hypnotic? I would've fallen asleep if I hadn't found something else to do. You're right. But why do you always get caught by him? It never happens to me, though. Are you going to the bookstore? Why? Fu Zhengchu invited us. And also some boys from his class. Let's go together. Why do you want to go there? To buy some reference books. Are you coming along? No. So, are you coming or not? No, I'm not going. But they're waiting over there. Let's go, please. Go ahead if you want. I'm not in the mood today. Because your parents are asked to come over? What do you plan to do? They're not coming. Even so, Mr. Chen will phone them anyway. So, I asked my brother to come over. I'm leaving. Sang Zhi. Bye-bye. Sang Zhi, why are you leaving? Sang Zhi. I thought we were going to the bookstore. Is Sang Zhi not coming with us? The teacher scolded her. She's down. So her parents have to come here again? Her parent comes more frequently than yours, Fu Zhengchu. Shame on you. Mind your business. Why doesn't he help me? How am I going to face Dad and Mom? Just you wait. Silly Dog. What should I do? Doggy. Come here. You're so adorable. I tell you what, Sang Yan, that silly dog, left me to struggle myself, and he even angered me. You think he's hateful, right? Let me tell you this. You mustn't grow into a big silly dog like him in the future. Though you're now a small silly dog, please don't be silly like him when you grow up, okay? You're good in this way. Even you get me angry, huh? Are you making me angry too? I'm sure you'll become a big silly dog like Sang Yan afterward. Zhi, welcome back. Mom. Erm... Hold on. Take the fruit upstairs. Yan is back. Yan is back? Yes. Be careful when you go upstairs. -Okay.\n",
            "-Yan... She's rather weird today. Yan. What's up? Did you get plastic surgery? Come over and take a good look if my face is well-fixed. What's wrong with you? Are you amazed by my dashing look? You're more narcissistic than me, Sang Yan. Shut up. Little demon, tell me now. What have you done this time? No... I did nothing. No? How is that possible? If you hadn't,\n",
            "you wouldn't have said that you missed me and asked me if I would come home. Yan, something did come up. Is this your sister, Sang Yan? Do you think she's my daughter? Yan. Who is he? My roommate, Duan Jiaxu. Hello, little girl. I'm Duan Jiaxu. Your brother's friend. Do we look alike? The bathroom is over there. Do you want to look in the mirror? I don't look like you at all. Really? But your sister asked me if I got plastic surgery just now. What do you mean? Yan. Didn't you say that you weren't coming back today? Little demon. Don't tell me you mistook him for me. And worst, the tweaked version of me. Little demon. What are you thinking about every day? What's on your mind? You... Stop! Isn't it natural for you\n",
            "to become as handsome as him after plastic surgery? Look at your ugly face. Besides, Mom didn't tell me that you brought your friend home. Moreover, there was only one person in the room. Naturally, I mistook him for you! Keep it down! Why should I? Too loud! You can't beat me. Here. Have some fruit. Don't bother with him. Duan Jiaxu. Do you want to take a shower before we go? No. Go and get changed now. We're leaving. All right. I'm going to get changed. -Hurry up.\n",
            "-Wait! Yan. I... I need your help. Move away. I have an appointment for plastic surgery later. My bad. No way. Are you leaving me to die? I don't even know what you're asking for. Fire away. What's it? Please say yes first. I can't do that. Are you going to report me to Mom? Mom. Mom. Mommy. Mommy. You were laughing just now. What has happened? Mom, Yan beat me. Mom. Mom, Yan beat me. Sang Yan. Can you not bully your sister? Mom. Stop that. Why shush her? How dare you bully her! Mom. Yan beat me. He said I... All right, dear. There, there. How could you do that to her? I'm going to teach him a lesson. Come with me. What was going on? I didn't touch her. You... You said you didn't touch her? I saw that with my eyes. Duan is still here. How could you do that to your sister? I won't do it again. You should know you're a big brother. Never again. Not anymore. Fine, it's good that you know you're wrong. Can you get me a tissue paper? Does this happen to you two often? It's nothing. Don't worry. Mom didn't mean that. We've been like this since we were little. Didn't you ask Yan for his help just now? Why did you frame him, then? Wait, little girl. Hold back your tears. What about this? I... I'll talk to Yan and ask him to help you. What kind of help do you need? It won't work. He won't help me. No, he won't. Yan isn't that petty. Jiaxu. Do you have time tomorrow? Tomorrow? Yes, tomorrow. What if I say I don't have time. No, you can't. You have to be available. Why? Hadn't you told Yan about the plastic surgery thing, I wouldn't have fought with him, and he wouldn't have turned me down. You have a point. So, tell me. What do you need me to do? Can you please pretend to be my brother? Biological brother. And... meet with my teacher. Your parents are asked\n",
            "to meet the teacher at school? What have you done? Can I not tell? Sure, you can. Well, I don't have time tomorrow. I wasn't paying attention during class. I got called to answer questions. I answered that correctly. But he later said he wanted to meet with my parent. Do you expect me to buy that? I'm telling the truth. If you don't believe me, you'll find out tomorrow when you go there. Even if I lie to you now, the teacher will tell you everything tomorrow. True. Little demon. Get out. Can't I stay? I'm changing my clothes. Didn't you say you'd change it outside? I want to change it here. If so, he should leave the room too. I don't think he enjoys watching you get changed. You two, get out. I'm going to undress. Took you long enough. Close the door. Hey. Are you coming or not tomorrow? I've told you everything. Why don't you seek Yan? No way. I framed him just now. If I were to tell him... Yan isn't like that. What are you mumbling again? Little demon. Oh, a light bulb burned out. Mrs. Sang. I'll get going. You're leaving? Are you not staying for dinner? I've prepared many dishes. I have a part-time job later. Please enjoy the meal without me. All right. What about you, Yan? I'm not eating since he's not. Fine. Take the trash out for me. Take the paper boxes out first. Hurry up. I'll do it, Mrs. Sang. No. Don't bother. I... It's just a small deal. I'm leaving. All right, thank you. Come for dinner next time. Sure, Mrs. Sang. Good. I'll take my leave, Mrs. Sang.\n",
            "Where are the boxes, Mom? Just right there. Bye, little girl. See you next time. Bye? Hey. Are you leaving so soon? It's getting late now. Why don't you leave after dinner? Maybe next time. When's the next time? Duan Jiaxu. Don't waste your breath\n",
            "with an elementary student. I'm not an elementary student. I'm already in Grade 8. Wow, you're an 8th grader. Impressive. Are you in Grade 8? So, you're 14? Are you trying to say that I'm too short to be in Grade 8? Rightfully so. That's what he meant. No, I didn't, little girl. Don't mistake me. I won't argue with you on this. Anyway, I'll grow taller. No worries at all. You're not growing again. But it's good for you, though. People will think that you're 18 even when you're at your 30. So, just because you're tall, people would assume you're my dad? Bye. You're 14. What school do you go to? Xuri Middle School. Grade 8, Class 1. And your name? I'm Sang Zhi. Sang Zhi? Yes, \"Zhi\" as in innocence. Duan Jiaxu. Let's go. Coming. So, Sang Zhi, you know when we'll meet next time, right? Bye. Close the gate before you leave. Mom. Good morning. Good morning. Good morning. Morning, Zhi. Good morning. Good morning. Little demon. Can't you see me? Little demon. Yan, you're back. Yes, this is my home. Why can't I come back? So, you know this is your home? When was the last time you were back? You can ask Dad and Mom if they still recognize you. I haven't seen you for a month, and you're giving me this attitude? What attitude do you expect from me, then? Welcome. A warm welcome to you. Welcome home, Yan. Are you happy? Is this okay? Happy. Let me give you a big hand. Well, stop it. Enough. That's enough. That's enough.\n",
            "The egg pancake is ready. That's too much. Sit down. Come on. Taste it. Dad made you the egg pancake with tuna. Eat it while it's hot. Nice. My name is Sang Zhi, and this is how I talk. Stop making fun of her. Come on. Eat up. Thanks, Dad. Dad. I'm moving back to the main campus. So, I might need to borrow your car. Do you have a lot of luggage? I can get you a moving company. Not necessary. I just don't want to squeeze\n",
            "into the campus shuttle. I remember that the main campus is somewhere near Zhi's school. You can pick up Zhi from school later on. No. I'm in college now. I'm not taking care of the kid anymore. I don't want it either. I'm in Grade 11 now. You'd better be. Dad, can I borrow your car this afternoon? I'm fetching my roommate's luggage too. Whatever you wish, as long as you don't bully her. Fine, I'll try to. Which roommate? Why do you ask? What do you want? Yan. Can I help you out with your move? You want to help out? Did I mishear you? No, you didn't. You need to go to school. I can go after school. You won't do it that early, anyway. May I? Zhi. You're having the arts-science stream entrance test\n",
            "these two days. You have to study at school. I'm already done with the revision. It won't affect me much. Do your revision. Besides, I'm sure I'll have finished moving after you come. Mom. Dad. Yan hasn't returned home for a long time. I've been missing him so much. I have grown up now, and I should do something for him. Look how sincere she is. Just let her help. That's right. She won't affect your study. Wait. How can she help? My things are heavy. She can't carry them at all. Besides, I have to watch out for her so that she won't trip into something. If she does, I'll be in big trouble when I return home. Just let her watch over your luggage on the side. How about that? Fine, do what you like. I'll call you after school. Do you want this? I have had it. Hello. Hello. I'm here. You actually came? Where are you? I'm busy now. I can't come down to fetch you. Wait for me there. Tell me where you are now. I'll come to find you. Room 525, Block 9. Block 9. Got it. Silly Dog. Busted, thief. Sang Zhi? It's been some years. I hardly recognized you. I'm here to help my brother. I know. He told me. But why did you only steal my thing? Trying to hide the happiness under a calm face Is this yours? But I can't contain my joy I didn't know it was yours. Had I known, I wouldn't have touched it. What do you mean by that? Kiddo. Where's your conscience? I did you a great favor. Don't you remember that? To find out if you like me too No. If you like this stuffed animal, take it. I was just kidding. I'm already in Grade 11. I don't play with stuffed animals anymore. I see. I'll throw it away, then. I... I... I can play with it for a while. Come on. I'll take you upstairs. Take the shoes for your brother. My concealed heart is about to race out Let's go. I can't help but look at you I have someone I really like My heart jingles when I think of you Jiaxu. Is this fox doll given by someone else? I think so. I can't remember that. To find out if you like me too We have to climb to the fifth floor. Can you make it? This way. Sang Yan. You said you were too busy to fetch me. You're not busy at all. You just didn't want to! I just finished unpacking things here and sat down to rest. No, you didn't. You didn't move at all, and you didn't tidy your things. Mom asked you to fetch me. Give that to me. Sang Yan. Is this your sister? Yes. Greet Qian Fei. Hello, Qian Fei. I'm Sang Zhi. Little girl. You're so adorable. Keep your distance. Wait.\n",
            "It's the first time I've met her. What's wrong if I go near her? I'm short-sighted. You'll scare her if you get too close. I'm sorry about just now, little girl. Don't be. Come here, little girl. Sit over here. Sit over there. I'm not little. I said I'm not little. All right. Girl. What do we have for dinner? We've finally moved here, and your sister is here too. Let's not eat at the canteen. There's a good hot pot restaurant in the mall, what do you say? Let's eat barbecue. There's a food street behind the college town. Let's try that out. Hot pot, please. Haven't you had enough barbecue? Little demon. Little demon. Do you want a hot pot or a barbecue? Xu. Let's have a hot pot tonight. You guys go ahead. I have to work a part-time job later. Seriously, Xu? Where are you going? Don't tell me you have a girlfriend. Tell you what, you can't be the only one here having a girlfriend. You should introduce one to me. Introduce a girl to me first. Don't cut the line. Introduce one to me first. A girl who isn't hot-tempered will do. Any girl will do. As long as she likes me. Qian Fei. My brother told me all girls in this college pursue him. Well, little girl. I have never seen someone more thick-skinned than him. After hearing what you said, Sang Yan does look good lately. Get off me. You guys talk. I'm leaving. Zhi. If you like the doll, take it with you. Bye. Duan Jiaxu hasn't thrown that away. What's wrong with him? It's just a decoration on his bed. It's completely useless. By the way, Qian Fei, does Jiaxu have a girlfriend? Did his girlfriend give him this? He doesn't have a girlfriend. He's busy every day and has no time for that. I think that's a prize from some activity. From last semester. If you don't like it, just leave it there. That dog must have made a fool of you. Dog? Don't you know? He and your brother are known\n",
            "as the \"Double Dogs of Nanwu\". I thought Yan was the only dog. Enough of that. Do you want a hot pot or a barbecue? I don't want any of that. What else do you want? I'll drive you home after dinner. No, thanks. I only want to go home. I'm not eating anything. I can drive you home. I'll take the bus. Oh? What a big girl. Fine, it's almost time. Let's go. I'm leaving. Bye-bye, see you next time. Asimov. The End of Eternity. \"But it revolves itself into an identity. There's a loop of small dimensions with no tribulations on either side.\" Can you understand this? Maybe this is the distance between us. I can't understand a word about the book he reads. I only know the characters. Sang Yan. How's your thesis coming along? I don't have enough references. I'm going to the library tomorrow. You're so invested in this. I haven't finished mine yet. Me either. Why are you back? I've brought some food for you. Help yourselves. Okay. Sure. It's all your fault. If you didn't always bring food back from work, I wouldn't be so chubby now. You're to blame. Xu. My sister phoned me just now, saying that you have something with her. She has my thing? Hold on. I'll call her. Did you find the thing? Kiddo. What did I leave behind with you? No, it's not your thing. I have left something at your place. What's it? An exercise book. I'll ask Yan to send it to you tomorrow morning. But I haven't started writing it. Are you asking me to do it for you? No. Because it's a composition. I might not have time to finish it. Why don't you ask Yan to do it for you? He'll break my leg. Sang Zhi. This homework is a task given by your teacher. If you don't bring it to school, you should be honest with the teacher and apologize. Tell the teacher\n",
            "you'll do it afterward. But you shouldn't ask someone to do it for you. What time do you usually arrive at school? 7:40 AM. 7:40 AM, I see. So, you wake up at 7 AM. Can you wake up at 6 AM? Why? Tomorrow, I'll be at the bus stop at 6:40 AM and wait for you. I'll accompany you when you write the essay. Is that okay? If so, you should think about what to write now. After that, wash up and go to bed. All right. It's 6 AM. Don't forget to set the alarm. I'll call you then. Go to sleep now. Good night. Your phone. What's it? What did you leave behind? Nothing important. What time are you going to the library? First thing in the morning. As early as possible. Why so early? I need to straighten out my research topic to find breakthroughs for my arguments. That's quite a work. That makes sense. Remember to wake me up tomorrow morning. Good night. You can converse the theorem in this way too. Therefore, we call the two theorems the reciprocal theorems. Learn the converse theorem by heart. As for the catheti, \"a\" squared plus \"b\" squared... You keep sighing throughout the lesson. Do you think I didn't explain it well enough? Did I sigh? No, you didn't sigh. I did. Today's homework will be the first ten questions in the booklet. Class dismissed. Stand up. Goodbye, sir. Sang Zhi. I'm waiting for your parent in the office. So, Sang Zhi, you know when we'll meet next time, right? What did he mean? Will he come over tomorrow? I'm Duan Jiaxu. Duan Jiaxu. Which three characters are they? Love is when butterflies flutter in my heart And ripples of excitement\n",
            "sprawling across my vision Trying to hide the happiness under a calm face But I can't contain my joy I have someone I really like My heart jingles when I think of you I wish I could read your mind To find out if you like me too\n",
            "\n",
            "--- Summary ---\n",
            "\n",
            "This transcript follows a young girl named **Sang Zhi** and the development of her crush on her older brother's friend, **Duan Jiaxu**.\n",
            "\n",
            "The story begins with Sang Zhi, a middle school student, getting in trouble for daydreaming in class. Her teacher demands to see her parents. To avoid this, she tries to enlist her bickering brother, **Sang Yan**, but he refuses. In a moment of desperation, she meets his kind and handsome roommate, Duan Jiaxu, for the first time. She convinces Jiaxu to pose as her brother and meet with her teacher. This marks the beginning of their connection and her secret affection for him.\n",
            "\n",
            "The story then jumps forward a few years. Sang Zhi is now in high school, and she eagerly helps her brother move dorms, hoping to see Jiaxu again. She is delighted to find that he has kept a stuffed animal from their first meeting.\n",
            "\n",
            "The transcript concludes with another significant interaction: Sang Zhi leaves a homework notebook at the dorm. When she calls in a panic, Jiaxu answers. Instead of letting her cheat, he acts as a responsible and caring figure, offering to meet her early the next morning to help her complete the assignment. These acts of kindness solidify her deep crush on him, which is the central theme of the narrative.\n"
          ]
        }
      ]
    },
    {
      "cell_type": "code",
      "source": [],
      "metadata": {
        "id": "Fp_kejnB4uae"
      },
      "execution_count": null,
      "outputs": []
    }
  ]
}